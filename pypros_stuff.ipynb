{
 "cells": [
  {
   "cell_type": "code",
   "execution_count": 1,
   "metadata": {},
   "outputs": [],
   "source": [
    "import pandas as pd"
   ]
  },
  {
   "cell_type": "code",
   "execution_count": null,
   "metadata": {},
   "outputs": [],
   "source": [
    "ufo_data = pd.read_csv('./data/complete.csv',\n",
    "                       #    use the names paramater to assign header as the names of the columns\n",
    "                       names=['datetime', 'city', 'state', 'country', 'shape',\n",
    "                              'duration(seconds)', 'duration(hours/min)', 'comments',\n",
    "                              'date posted', 'latitude', 'longitude'],\n",
    "                       #    set header to 0 in order to override a header if it was included\n",
    "                       header=0,\n",
    "                       #    help pandas read the datetime type files as date times by employing the paramater parse dates\n",
    "                       parse_dates=[\n",
    "                           'datetime', 'duration(seconds)', 'duration(hours/min)', 'date posted'],\n",
    "                        # helps pandas rad na values by helping it recognizine the by definine it\n",
    "                        na_values = ['n/a', 'ect']"
   ]
  },
  {
   "cell_type": "code",
   "execution_count": null,
   "metadata": {},
   "outputs": [],
   "source": [
    "\"\"\"dictionaries\"\"\"\n",
    "#    use the names paramater to assign header as the names of the columns\n",
    "names = ['datetime', 'city', 'state', 'country', 'shape',\n",
    "         'duration(seconds)', 'duration(hours/min)', 'comments',\n",
    "         'date posted', 'latitude', 'longitude'],\n",
    "#    set header to 0 in order to override a header if it was included\n",
    "header = 0,\n",
    "#    help pandas read the datetime type files as date times by employing the paramater parse dates\n",
    "parse_dates = [\n",
    "    'datetime', 'duration(seconds)', 'duration(hours/min)', 'date posted'],\n",
    "# helps pandas rad na values by helping it recognizine the by definine it\n",
    "na_values = ['n/a', 'ect']\n",
    "\n",
    "\n",
    "index = data['key_name']\n"
   ]
  },
  {
   "cell_type": "code",
   "execution_count": null,
   "metadata": {},
   "outputs": [],
   "source": [
    "\"\"\"SERIES\"\"\"\n",
    "\n",
    "#  one dimention array that is an index that can hold any datatype\n",
    "\n",
    "import pandas as pd\n",
    "# by default index is set at 0, 1, 2, ect\n",
    "\"\"\"s = pd.Series(['dog', 'human', 'lizard'])\"\"\"\n",
    "# if we want to set an index we can add it to the series function and assign it a blank list\n",
    "\"\"\"s = pd.Series(['dog', 'human', 'lizard'],\n",
    "                index = 0 )\"\"\"\n",
    "# here we can create custom index values by passing strings to set as index values\n",
    "\"\"\"s = pd.Series(['dog', 'human', 'lizard'],\n",
    "              index=['mammal', 'mammal', 'reptile'])\"\"\"\n",
    "# to access a specific value from this series, we can reference an index from within the series\n",
    "# it will print all values where index is the same\n",
    "\"\"\"print(s['reptile'])  \"\"\"\n",
    "\n",
    "\"\"\"SERIES FROM A DICTIONARY\"\"\"\n",
    "# we can also create a series from a dictionary of values\n",
    "#       to do this we will declare a new variable called values above the \n",
    "#          series and set this equal to an empty dictionary\n",
    "\"\"\"values = {''}\"\"\"\n",
    "# in the curly brackets we can set key and value pairs\n",
    "# lets recreate the data from below with the keys being the indexs\n",
    "\"\"\"values = {'mammal1': 'dog',\n",
    "        'mammal2': 'human',\n",
    "        'reptile': 'lizard'}\"\"\"\n",
    "# replace the arguments within the series function with the dictionary values\n",
    "\"\"\"s = pd.Series(values)\"\"\"\n",
    "#       the resulting series takes the keys and values from the dictionary\n",
    "#       and creates a pandas series\n",
    "\n",
    "\n",
    "\"\"\"SERIES FROM NumPy ARRAY\"\"\"\n",
    "import numpy as np\n",
    "# declare a new array with the np.arrange() function\n",
    "\"\"\"a = np.arange(9)\"\"\"\n",
    "# create a new pandas series by adding the array 'a' as the first arguement\n",
    "#       result is a pd deries containing values 0-8 with default index being 0-8\n",
    "\"\"\"s = pd.Series(a)\"\"\"\n",
    "# a series can also be created from a constant value\n",
    "#    this can be done by assigning an integer as the first arguement in the series function\n",
    "#     followed by the keyword index which will determine the number of elements within the series\n",
    "\"\"\"s = pd.Series(1, index = []) \"\"\"\n",
    "# we can assign a list to the index keyword with the values using the np.arrange() function\n",
    "#       this creates a series of 9 elements each with the value 1 (can also take a string)\n",
    "\"\"\"s = pd.Series(1, index = [np.arange(9)])\"\"\"\n",
    "\n",
    "print(s)"
   ]
  },
  {
   "cell_type": "code",
   "execution_count": null,
   "metadata": {},
   "outputs": [],
   "source": []
  }
 ],
 "metadata": {
  "interpreter": {
   "hash": "6994fd3a9bc5b6005694b5be213f538f9ba0959532ec0c6b00e1e64256ffb346"
  },
  "kernelspec": {
   "display_name": "Python 3.7.13 ('venv': venv)",
   "language": "python",
   "name": "python3"
  },
  "language_info": {
   "codemirror_mode": {
    "name": "ipython",
    "version": 3
   },
   "file_extension": ".py",
   "mimetype": "text/x-python",
   "name": "python",
   "nbconvert_exporter": "python",
   "pygments_lexer": "ipython3",
   "version": "3.7.13"
  },
  "orig_nbformat": 4
 },
 "nbformat": 4,
 "nbformat_minor": 2
}
